{
 "cells": [
  {
   "cell_type": "code",
   "execution_count": 174,
   "metadata": {},
   "outputs": [],
   "source": [
    "import requests\n",
    "import json\n",
    "from bs4 import BeautifulSoup\n",
    "from datetime import datetime\n",
    "from models import Article\n",
    "import re"
   ]
  },
  {
   "cell_type": "code",
   "execution_count": 175,
   "metadata": {},
   "outputs": [],
   "source": [
    "# The possible prefix of the URL on fool.com\n",
    "prefixes_fool = [r'https://www.fool.com/quote/nasdaq/',\n",
    "             r'https://www.fool.com/quote/nyse/']\n",
    "\n",
    "headers = {\n",
    "'user-agent': 'Mozilla/5.0 (Windows NT 10.0; Win64; x64) AppleWebKit/537.36 (KHTML, like Gecko) Chrome/85.0.4183.83 Safari/537.36 Edg/85.0.564.44'\n",
    "}\n",
    "\n",
    "TICKET = 'riot'"
   ]
  },
  {
   "cell_type": "code",
   "execution_count": 176,
   "metadata": {},
   "outputs": [],
   "source": [
    "def make_request(url, headers):\n",
    "    response = requests.get(url, headers=headers)\n",
    "    soup = BeautifulSoup(response.text, 'html.parser')\n",
    "    return soup"
   ]
  },
  {
   "cell_type": "code",
   "execution_count": 177,
   "metadata": {},
   "outputs": [],
   "source": [
    "def get_fool_news_links(url, headers):\n",
    "\n",
    "    soup = make_request(url, headers)\n",
    "    \n",
    "    # get the section with the 2 articles just below \"News & Analysis\"\n",
    "    articles = soup.select('.flex.flex-col')\n",
    "    \n",
    "    if not articles:\n",
    "        return None\n",
    "    \n",
    "    # get all the links, the \"select\" above returns a list\n",
    "    articles = articles[0].find_all('a', href=True)\n",
    "    \n",
    "    links = []\n",
    "    prefix = r'https://www.fool.com/'\n",
    "    \n",
    "    for article in articles:\n",
    "        links.append(prefix + article['href'])\n",
    "        \n",
    "    return links\n",
    "    "
   ]
  },
  {
   "cell_type": "code",
   "execution_count": 181,
   "metadata": {},
   "outputs": [],
   "source": [
    "def fool_get_article_body(soup):    \n",
    "    article_body = soup.find(class_='article-body')\n",
    "    \n",
    "    if not article_body:\n",
    "        return None\n",
    "    \n",
    "    paragraphs = article_body.find_all('p')\n",
    "    text_content = '\\n'.join(paragraph.get_text(strip=True) for paragraph in paragraphs)\n",
    "    \n",
    "    return text_content\n",
    "\n",
    "def extract_date_from_url(url: str) -> datetime:\n",
    "    # Step 1: Define a regular expression pattern to match the date in the URL\n",
    "    pattern = r'/(\\d{4})/(\\d{2})/(\\d{2})/'  # Matches /YYYY/MM/DD/\n",
    "    \n",
    "    # Step 2: Search for the pattern in the URL\n",
    "    match = re.search(pattern, url)\n",
    "    \n",
    "    if match:\n",
    "        # Step 3: Extract year, month, and day from the match\n",
    "        year, month, day = match.groups()\n",
    "        \n",
    "        # Step 4: Convert to a datetime object\n",
    "        date_obj = datetime(int(year), int(month), int(day))\n",
    "        return date_obj\n",
    "    else:\n",
    "        return None\n",
    "\n",
    "\n",
    "def fool_get_article_info(url, headers, ticket):\n",
    "    soup = make_request(url, headers)\n",
    "    \n",
    "    try:\n",
    "        text_content = fool_get_article_body(soup)\n",
    "    except Exception as e:\n",
    "        text_content = None\n",
    "        print('Something whent wrong :(. ', e)\n",
    "        \n",
    "    try:\n",
    "        date_time_article = extract_date_from_url(url)\n",
    "    except Exception as e:\n",
    "        date_time_article = None\n",
    "        print('Something whent wrong :(. ', e)\n",
    "    \n",
    "    try:\n",
    "        title = soup.find('h1').text\n",
    "    except Exception as e:\n",
    "        title = None\n",
    "        print('Something whent wrong :(. ', e)\n",
    "    \n",
    "    return Article(ticket=ticket, url=url, title=title, article_body=text_content, timestp=date_time_article)\n"
   ]
  },
  {
   "cell_type": "code",
   "execution_count": 179,
   "metadata": {},
   "outputs": [
    {
     "name": "stdout",
     "output_type": "stream",
     "text": [
      "['https://www.fool.com//investing/2024/06/25/is-riot-platforms-a-millionaire-maker/', 'https://www.fool.com//investing/2024/06/15/is-riot-blockchain-a-buy-after-bitcoin-halving/']\n"
     ]
    }
   ],
   "source": [
    "fool_links = []\n",
    "\n",
    "for prefix in prefixes_fool:\n",
    "    try:\n",
    "        url = prefix + TICKET + '/'\n",
    "        \n",
    "        links = get_fool_news_links(url, headers)\n",
    "        \n",
    "        # if the function finds no link it stops\n",
    "        if links:\n",
    "            fool_links = fool_links + links\n",
    "    \n",
    "    except Exception as e:\n",
    "        print('Something whent wrong :(. ', e)\n",
    "    \n",
    "print(fool_links)"
   ]
  },
  {
   "cell_type": "code",
   "execution_count": 182,
   "metadata": {},
   "outputs": [
    {
     "name": "stdout",
     "output_type": "stream",
     "text": [
      "ticket='riot' url='https://www.fool.com//investing/2024/06/25/is-riot-platforms-a-millionaire-maker/' title='Is Riot Platforms a Millionaire Maker?' article_body=\"Riot Platforms(RIOT4.04%)became one of the world's largestBitcoin(BTC2.22%)miners during the past few years, but it's generated disappointing returns for its long-term investors. Riot actually used to be Bioptix, a developer of veterinary products, before it abruptly abandoned that business model (and name) nearly seven years ago.\\nOn Oct. 4, 2017, Bioptix rebranded itself as Riot and declared it would become aBitcoin miner. It subsequently ordered thousands of Bitcoin miners from Bitmain, invested in other crypto companies, and expanded its business with more acquisitions. Riot's stock closed at $8.18 per share on the day of its rebranding, and it eventually soared to its post-rebranding high of $77.90 during the meme stock rally on Feb. 17, 2021.\\nImage source: Getty Images.\\nBut today, Riot's stock trades at about $9.50. A $10,000 investment in its stock would have briefly blossomed to $95,232 before withering to about $11,600 today. The same investment in Bitcoin would have grown to $149,000. Let's see why Riot underperformed Bitcoin by such a wide margin -- and whether it still has a shot at generating millionaire-making gains in the future.\\nRiot's business model is fairly simple. It constantly buys more miners, expands its mining facilities, and mines more Bitcoin. It generates most of its revenue by mining Bitcoin, and it occasionally converts some of its coins to cash.\\nWe can measure Riot's growth through the expansion of its mining capacity; its exahash per second (EH/s), which gauges its mining efficiency; its total Bitcoins mined; and its total revenue growth. As this table illustrates, Riot rapidly expanded its mining capacity, boosted its mining efficiency, and mined a lot of Bitcoin during the past four years.\\nMetric\\n2020\\n2021\\n2022\\n2023\\nMiners online\\n7,034\\n30,907\\n88,556\\n112,944\\nEH/s\\n0.6\\n3.1\\n9.7\\n12.4\\nTotal bitcoins mined\\n1,033\\n3,813\\n5,554\\n6,626\\nRevenue\\n$12.1 million\\n$213.2 million\\n$259.2 million\\n$280.7 million\\nRevenue growth\\n78%\\n1,662%\\n22%\\n8%\\nData source: Riot Platforms.\\nRiot has been acquiring several smaller Bitcoin miners during the past year, and it expects its hash rate to reach 31 EH/s by the end of 2024. Analysts expect its revenue to surge 48% to $415.2 million for the full year as it ramps up its mining output.\\nWith an enterprise value of $1.25 billion, Riot looks cheap at 3 times this year's sales. Larger competitorMarathon Digital(MARA5.04%), which had a hash rate of 27.8 EH/s in its latest quarter, trades at 8 times this year's sales.\\nRiot is still expanding, but investors seem to be losing interest in its stock for a few simple reasons. Bitcoin mining is a capital-intensive business that requires the price of the cryptocurrency to consistently grow faster than its operating costs. It's been tough to pull off that balancing act during the past two years as inflation drove up its energy costs. High interest rates also throttled Riot's\\xa0gains while making it more expensive to expand its mining facilities.\\nBitcoin's latestfour-year halvingthis April, which reduces its rewards for mining in half, exacerbated that pressure by further boosting Riot's mining costs. Yet the halving also made Bitcoin more appealing by capping its available supply, so it made more sense for most investors to simply buy Bitcoin instead of a Bitcoin miner stock. That's why shares of Riot and Marathon both tumbled after the first spot priceBitcoin exchange-traded funds (ETFs)arrived this January.\\nRiot also repeatedly issued new shares to cover its operating expenses and stock-based compensation. Over the past seven years, its shares outstanding have risen by a whopping 5,260% and severely diluted its early investors.\\nRiot has some issues, but investors shouldn't ignore its strengths. It hasn't generated an annual profit ever since its rebranding in 2017, but analysts expect it to turn profitable this year as Bitcoin's price stabilizes and it expands its facilities.\\nIf Bitcoin's pricesoars higherduring the next few years, economies of scale could kick in and drive Riot's revenue and profit higher. From 2023 to 2026, analysts expect its revenue to increase at a compound annual growth rate (CAGR) of 43%.\\nRiot looks cheap relative to those growth rates, but I'm not sure it can turn a fresh $10,000 investment into $1 million anytime soon. It might generate some multibagger gains as it overcomes its growing pains and near-term macro headwinds, but its future is ultimately tied to Bitcoin's price. So for many investors, Bitcoin itself might generate millionaire-maker returns a lot faster than Riot, Marathon, or other smaller Bitcoin miners over the next few years.\" timestp=datetime.datetime(2024, 6, 25, 0, 0)\n",
      "ticket='riot' url='https://www.fool.com//investing/2024/06/15/is-riot-blockchain-a-buy-after-bitcoin-halving/' title='Is Riot Blockchain a No-Brainer Buy After the Bitcoin Halving?' article_body='TheBitcoin(BTC2.22%)halving event took place in April, as expected.Bitcoin minersnow get half the rewards for the same amount of work. Are mining specialists likeRiot Platforms(RIOT4.04%)facing insurmountable economic challenges now, or are they poised to skyrocket on the back of a soaring Bitcoin price? Or does the truth lie somewhere in between?\\nLet\\'s take a closer look at Riot Platforms to see what\\'s up.\\nThis isn\\'t Riot\\'s first halving rodeo. The company used to pursue veterinary medicine patents, but acquired a small Bitcoin miner in 2017 and changed its focus to blockchain operations the next year. Two years later, on May 11, 2020, the thirdBitcoin halvingtook place.\\nIt was a different time for Riot. Apart from the global impact of the then-current coronavirus pandemic, the company was building its Bitcoin mining infrastructure. Crypto mining generated $2.4 million of revenue in the first quarter of 2020, and $23.2 million a year later. Riot\\'s property and equipment -- largely accounting for its crypto-mining hardware and facilities -- tripled in value over the same span. And the first-quarter cost of electric power more than quintupled from $1.4 million to $7.5 million.\\nRiot was burning a ton of cash back then, keeping the lights on thanks to dilutive stock sales and a small amount of Bitcoin sales. And thanks to the halving of Bitcoin miner rewards, Riot\\'s Bitcoin production fell 28% year over year in the first full quarter after the 2020 halving.\\nBitcoin prices were rumbling in this period, gaining a modest 10% from September 1, 2019, to September 1, 2020. But then a couple of halving effects kicked in with a vengeance.\\nHalving events put a ton of pressure on inefficient crypto miners. Many people and companies generating Bitcoin data blocks with low-power hardware or high electricity costs get forced out of business in each four-year halving cycle. When these failed mining experts step out, the high-efficiency miners that remain will get their hands on a larger percentage of the total rewards.\\n\"When those higher-cost producers fall off, [mining] difficulty adjusts and then that widens the margin again as we\\'re mining more Bitcoin,\" Riot CEO Jason Les explained in a recent earnings call. \"To reach that long term, to be a leading Bitcoin mining company, we have to focus on having this low cost of power and maintain a low cost of production through more difficult points in the market.\"\\nThe April 2020 halving presents another \"difficult point\" in the Bitcoin mining market. If history is any guide, low-cost miners like Riot should thrive as inferior rivals fall away -- and Bitcoin\\'s price should start surging as this dynamic plays out. Here\\'s how Riot\\'s business results worked out around the 2020 halving cycle:\\n\\nRIOT Revenue (TTM)data byYCharts\\nPast results are not a guarantee of future success, and every halving cycle is different. Still, the economic themes around this crypto-market driver tend to rhyme and echo over the ages. If anything, Riot is in a stronger position heading into this particular cycle, armed with a rich balance sheet and more substantial mining operations. The company is even reselling energy to the Texas power grid as heat waves strain the local power grid.\\nIs Riot a no-brainer buy, then?\\nNot necessarily, but the stock may post solid gains if this halving cycle works out like the last one. Riot\\'s position in the market, strengthened by its low-cost operations and expanding infrastructure, provides a strong case for potential upside.\\nHowever, you shouldreview your risk tolerance, recognize Riot\\'s high-risk, high-reward nature, and make your moves accordingly. This investment isn\\'t for the faint-hearted, but it could be a strategic addition for those bullish onBitcoin\\'s long-term prospects.' timestp=datetime.datetime(2024, 6, 15, 0, 0)\n"
     ]
    }
   ],
   "source": [
    "for fool_link in fool_links:\n",
    "    print(fool_get_article_info(url=fool_link, headers=headers, ticket=TICKET))"
   ]
  },
  {
   "cell_type": "code",
   "execution_count": null,
   "metadata": {},
   "outputs": [],
   "source": []
  }
 ],
 "metadata": {
  "kernelspec": {
   "display_name": "py_kafka",
   "language": "python",
   "name": "python3"
  },
  "language_info": {
   "codemirror_mode": {
    "name": "ipython",
    "version": 3
   },
   "file_extension": ".py",
   "mimetype": "text/x-python",
   "name": "python",
   "nbconvert_exporter": "python",
   "pygments_lexer": "ipython3",
   "version": "3.9.19"
  }
 },
 "nbformat": 4,
 "nbformat_minor": 2
}
