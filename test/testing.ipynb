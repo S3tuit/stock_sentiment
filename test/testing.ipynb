{
 "cells": [
  {
   "cell_type": "code",
   "execution_count": 1,
   "metadata": {},
   "outputs": [],
   "source": [
    "import requests\n",
    "import json\n",
    "from bs4 import BeautifulSoup\n",
    "from datetime import datetime\n",
    "from helper.models import Article\n",
    "import re\n",
    "\n",
    "from selenium import webdriver\n",
    "from selenium.webdriver.chrome.options import Options\n",
    "from selenium.webdriver.chrome.service import Service  # Import Service class"
   ]
  },
  {
   "cell_type": "code",
   "execution_count": 3,
   "metadata": {},
   "outputs": [],
   "source": [
    "def get_dynamic_content(url):\n",
    "    # Set up headless Chrome options\n",
    "    chrome_options = Options()\n",
    "    chrome_options.add_argument(\"--headless\")  # Run Chrome in headless mode\n",
    "    chrome_options.add_argument(\"--no-sandbox\")  # Needed if running in Docker\n",
    "    chrome_options.add_argument(\"--disable-dev-shm-usage\")  # Overcome limited resource problems\n",
    "    \n",
    "    # Specify the path to chromedriver using the Service class\n",
    "    service = Service(executable_path=r\"C:\\Users\\MatteoLadislai\\for_Selenium\\chromedriver-win64\\chromedriver-win64\\chromedriver.exe\")\n",
    "    \n",
    "    # Pass the service and options to the Chrome WebDriver\n",
    "    driver = webdriver.Chrome(service=service, options=chrome_options)\n",
    "    \n",
    "    # Load the page\n",
    "    driver.get(url)\n",
    "    \n",
    "    # Give time for JavaScript to load content\n",
    "    driver.implicitly_wait(10)  # Wait for elements to load (use WebDriverWait for specific elements)\n",
    "\n",
    "    # Get the page source after JavaScript has loaded\n",
    "    page_source = driver.page_source\n",
    "\n",
    "    driver.quit()\n",
    "    \n",
    "    return page_source\n",
    "\n",
    "url = 'https://www.zacks.com/stock/quote/RIOT'\n",
    "page_content = get_dynamic_content(url)\n",
    "\n",
    "soup = BeautifulSoup(page_content, 'html.parser')"
   ]
  },
  {
   "cell_type": "code",
   "execution_count": 5,
   "metadata": {},
   "outputs": [
    {
     "data": {
      "text/plain": [
       "<ul aria-hidden=\"false\" aria-labelledby=\"ui-id-4\" class=\"news-tab-content current ui-tabs-panel ui-corner-bottom ui-widget-content\" id=\"news-tab-1\" role=\"tabpanel\"> <li>\n",
       "<h3><a class=\"analytics_tracking\" href=\"/stock/news/2326608/marathon-digital-mara-falls-28-ytd-buy-hold-or-sell?art_rec=quote-stock_overview-zacks_news-ID01-txt-2326608\" id=\"zacks_news-2326608-txt\">Marathon Digital (MARA) Falls 28% YTD: Buy, Hold or Sell?</a></h3>\n",
       "<time datetime=\"2024-08-23\" pubdate=\"\">08/23/24-12:04PM EST  Zacks</time>\n",
       "</li><li>\n",
       "<h3><a class=\"analytics_tracking\" href=\"/stock/news/2325924/riot-platforms-riot-dips-46-ytd-how-should-you-play-the-stock?art_rec=quote-stock_overview-zacks_news-ID02-txt-2325924\" id=\"zacks_news-2325924-txt\">Riot Platforms (RIOT) Dips 46% YTD: How Should You Play the Stock?</a></h3>\n",
       "<time datetime=\"2024-08-22\" pubdate=\"\">08/22/24-11:48AM EST  Zacks</time>\n",
       "</li><li class=\"ts_news_link\">\n",
       "<h3><a href=\"https://www.zacks.com/registration/ultimatetrader/welcome/eoffer/3393/?t=RIOT\">RIOT: What are Zacks experts saying now?</a></h3>\n",
       "<!-- <time datetime=\"2024-09-07\" pubdate=\"\">09/07/24-11:10AM EST </time>-->\n",
       "<p>Zacks Private Portfolio Services</p>\n",
       "</li><li>\n",
       "<h3><a class=\"analytics_tracking\" href=\"/stock/news/2318996/is-trending-stock-riot-platforms-inc-riot-a-buy-now?art_rec=quote-stock_overview-zacks_news-ID03-txt-2318996\" id=\"zacks_news-2318996-txt\">Is Trending Stock Riot Platforms, Inc. (RIOT) a Buy Now?</a></h3>\n",
       "<time datetime=\"2024-08-08\" pubdate=\"\">08/08/24-8:00AM EST  Zacks</time>\n",
       "</li><li>\n",
       "<h3><a class=\"analytics_tracking\" href=\"/stock/news/2317324/should-you-buy-sell-or-hold-cleanspark-clsk-before-q3-earnings?art_rec=quote-stock_overview-zacks_news-ID04-txt-2317324\" id=\"zacks_news-2317324-txt\">Should You Buy, Sell, or Hold CleanSpark (CLSK) Before Q3 Earnings?</a></h3>\n",
       "<time datetime=\"2024-08-06\" pubdate=\"\">08/06/24-1:46PM EST  Zacks</time>\n",
       "</li><li>\n",
       "<h3><a class=\"analytics_tracking\" href=\"/stock/news/2315978/wall-street-bulls-look-optimistic-about-riot-platforms-inc-riot-should-you-buy?art_rec=quote-stock_overview-zacks_news-ID05-txt-2315978\" id=\"zacks_news-2315978-txt\">Wall Street Bulls Look Optimistic About Riot Platforms, Inc. (RIOT): Should You Buy?</a></h3>\n",
       "<time datetime=\"2024-08-05\" pubdate=\"\">08/05/24-8:30AM EST  Zacks</time>\n",
       "</li>\n",
       "<aside><a class=\"more_news_link\" href=\"https://www.zacks.com/stock/research/RIOT/all-news/zacks\">More Zacks News for RIOT<span aria-hidden=\"true\">»</span></a></aside>\n",
       "</ul>"
      ]
     },
     "execution_count": 5,
     "metadata": {},
     "output_type": "execute_result"
    }
   ],
   "source": [
    "soup.find(id=\"news-tab-1\")"
   ]
  },
  {
   "cell_type": "code",
   "execution_count": null,
   "metadata": {},
   "outputs": [],
   "source": []
  },
  {
   "cell_type": "code",
   "execution_count": 1,
   "metadata": {},
   "outputs": [
    {
     "ename": "OpenAIError",
     "evalue": "The api_key client option must be set either by passing api_key to the client or by setting the OPENAI_API_KEY environment variable",
     "output_type": "error",
     "traceback": [
      "\u001b[1;31m---------------------------------------------------------------------------\u001b[0m",
      "\u001b[1;31mOpenAIError\u001b[0m                               Traceback (most recent call last)",
      "Cell \u001b[1;32mIn[1], line 2\u001b[0m\n\u001b[0;32m      1\u001b[0m \u001b[38;5;28;01mfrom\u001b[39;00m \u001b[38;5;21;01mopenai\u001b[39;00m \u001b[38;5;28;01mimport\u001b[39;00m OpenAI\n\u001b[1;32m----> 2\u001b[0m client \u001b[38;5;241m=\u001b[39m \u001b[43mOpenAI\u001b[49m\u001b[43m(\u001b[49m\u001b[43m)\u001b[49m\n\u001b[0;32m      4\u001b[0m completion \u001b[38;5;241m=\u001b[39m client\u001b[38;5;241m.\u001b[39mchat\u001b[38;5;241m.\u001b[39mcompletions\u001b[38;5;241m.\u001b[39mcreate(\n\u001b[0;32m      5\u001b[0m     model\u001b[38;5;241m=\u001b[39m\u001b[38;5;124m\"\u001b[39m\u001b[38;5;124mgpt-4o-mini\u001b[39m\u001b[38;5;124m\"\u001b[39m,\n\u001b[0;32m      6\u001b[0m     messages\u001b[38;5;241m=\u001b[39m[\n\u001b[1;32m   (...)\u001b[0m\n\u001b[0;32m     12\u001b[0m     ]\n\u001b[0;32m     13\u001b[0m )\n\u001b[0;32m     15\u001b[0m \u001b[38;5;28mprint\u001b[39m(completion\u001b[38;5;241m.\u001b[39mchoices[\u001b[38;5;241m0\u001b[39m]\u001b[38;5;241m.\u001b[39mmessage)\n",
      "File \u001b[1;32mc:\\Users\\MatteoLadislai\\anaconda3\\envs\\py_django\\lib\\site-packages\\openai\\_client.py:105\u001b[0m, in \u001b[0;36mOpenAI.__init__\u001b[1;34m(self, api_key, organization, project, base_url, timeout, max_retries, default_headers, default_query, http_client, _strict_response_validation)\u001b[0m\n\u001b[0;32m    103\u001b[0m     api_key \u001b[38;5;241m=\u001b[39m os\u001b[38;5;241m.\u001b[39menviron\u001b[38;5;241m.\u001b[39mget(\u001b[38;5;124m\"\u001b[39m\u001b[38;5;124mOPENAI_API_KEY\u001b[39m\u001b[38;5;124m\"\u001b[39m)\n\u001b[0;32m    104\u001b[0m \u001b[38;5;28;01mif\u001b[39;00m api_key \u001b[38;5;129;01mis\u001b[39;00m \u001b[38;5;28;01mNone\u001b[39;00m:\n\u001b[1;32m--> 105\u001b[0m     \u001b[38;5;28;01mraise\u001b[39;00m OpenAIError(\n\u001b[0;32m    106\u001b[0m         \u001b[38;5;124m\"\u001b[39m\u001b[38;5;124mThe api_key client option must be set either by passing api_key to the client or by setting the OPENAI_API_KEY environment variable\u001b[39m\u001b[38;5;124m\"\u001b[39m\n\u001b[0;32m    107\u001b[0m     )\n\u001b[0;32m    108\u001b[0m \u001b[38;5;28mself\u001b[39m\u001b[38;5;241m.\u001b[39mapi_key \u001b[38;5;241m=\u001b[39m api_key\n\u001b[0;32m    110\u001b[0m \u001b[38;5;28;01mif\u001b[39;00m organization \u001b[38;5;129;01mis\u001b[39;00m \u001b[38;5;28;01mNone\u001b[39;00m:\n",
      "\u001b[1;31mOpenAIError\u001b[0m: The api_key client option must be set either by passing api_key to the client or by setting the OPENAI_API_KEY environment variable"
     ]
    }
   ],
   "source": [
    "from openai import OpenAI\n",
    "client = OpenAI()\n",
    "\n",
    "completion = client.chat.completions.create(\n",
    "    model=\"gpt-4o-mini\",\n",
    "    messages=[\n",
    "        {\"role\": \"system\", \"content\": \"You are a helpful assistant.\"},\n",
    "        {\n",
    "            \"role\": \"user\",\n",
    "            \"content\": \"Write a haiku about recursion in programming.\"\n",
    "        }\n",
    "    ]\n",
    ")\n",
    "\n",
    "print(completion.choices[0].message)"
   ]
  }
 ],
 "metadata": {
  "kernelspec": {
   "display_name": "py_kafka",
   "language": "python",
   "name": "python3"
  },
  "language_info": {
   "codemirror_mode": {
    "name": "ipython",
    "version": 3
   },
   "file_extension": ".py",
   "mimetype": "text/x-python",
   "name": "python",
   "nbconvert_exporter": "python",
   "pygments_lexer": "ipython3",
   "version": "3.10.14"
  }
 },
 "nbformat": 4,
 "nbformat_minor": 2
}
