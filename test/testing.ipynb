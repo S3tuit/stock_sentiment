{
 "cells": [
  {
   "cell_type": "code",
   "execution_count": 1,
   "metadata": {},
   "outputs": [],
   "source": [
    "import requests\n",
    "import json\n",
    "from bs4 import BeautifulSoup\n",
    "from datetime import datetime\n",
    "from helper.models import Article\n",
    "import re\n",
    "\n",
    "from selenium import webdriver\n",
    "from selenium.webdriver.chrome.options import Options\n",
    "from selenium.webdriver.chrome.service import Service  # Import Service class"
   ]
  },
  {
   "cell_type": "code",
   "execution_count": 3,
   "metadata": {},
   "outputs": [],
   "source": [
    "def get_dynamic_content(url):\n",
    "    # Set up headless Chrome options\n",
    "    chrome_options = Options()\n",
    "    chrome_options.add_argument(\"--headless\")  # Run Chrome in headless mode\n",
    "    chrome_options.add_argument(\"--no-sandbox\")  # Needed if running in Docker\n",
    "    chrome_options.add_argument(\"--disable-dev-shm-usage\")  # Overcome limited resource problems\n",
    "    \n",
    "    # Specify the path to chromedriver using the Service class\n",
    "    service = Service(executable_path=r\"C:\\Users\\MatteoLadislai\\for_Selenium\\chromedriver-win64\\chromedriver-win64\\chromedriver.exe\")\n",
    "    \n",
    "    # Pass the service and options to the Chrome WebDriver\n",
    "    driver = webdriver.Chrome(service=service, options=chrome_options)\n",
    "    \n",
    "    # Load the page\n",
    "    driver.get(url)\n",
    "    \n",
    "    # Give time for JavaScript to load content\n",
    "    driver.implicitly_wait(10)  # Wait for elements to load (use WebDriverWait for specific elements)\n",
    "\n",
    "    # Get the page source after JavaScript has loaded\n",
    "    page_source = driver.page_source\n",
    "\n",
    "    driver.quit()\n",
    "    \n",
    "    return page_source\n",
    "\n",
    "url = 'https://www.zacks.com/stock/quote/RIOT'\n",
    "page_content = get_dynamic_content(url)\n",
    "\n",
    "soup = BeautifulSoup(page_content, 'html.parser')"
   ]
  },
  {
   "cell_type": "code",
   "execution_count": 5,
   "metadata": {},
   "outputs": [
    {
     "data": {
      "text/plain": [
       "<ul aria-hidden=\"false\" aria-labelledby=\"ui-id-4\" class=\"news-tab-content current ui-tabs-panel ui-corner-bottom ui-widget-content\" id=\"news-tab-1\" role=\"tabpanel\"> <li>\n",
       "<h3><a class=\"analytics_tracking\" href=\"/stock/news/2326608/marathon-digital-mara-falls-28-ytd-buy-hold-or-sell?art_rec=quote-stock_overview-zacks_news-ID01-txt-2326608\" id=\"zacks_news-2326608-txt\">Marathon Digital (MARA) Falls 28% YTD: Buy, Hold or Sell?</a></h3>\n",
       "<time datetime=\"2024-08-23\" pubdate=\"\">08/23/24-12:04PM EST  Zacks</time>\n",
       "</li><li>\n",
       "<h3><a class=\"analytics_tracking\" href=\"/stock/news/2325924/riot-platforms-riot-dips-46-ytd-how-should-you-play-the-stock?art_rec=quote-stock_overview-zacks_news-ID02-txt-2325924\" id=\"zacks_news-2325924-txt\">Riot Platforms (RIOT) Dips 46% YTD: How Should You Play the Stock?</a></h3>\n",
       "<time datetime=\"2024-08-22\" pubdate=\"\">08/22/24-11:48AM EST  Zacks</time>\n",
       "</li><li class=\"ts_news_link\">\n",
       "<h3><a href=\"https://www.zacks.com/registration/ultimatetrader/welcome/eoffer/3393/?t=RIOT\">RIOT: What are Zacks experts saying now?</a></h3>\n",
       "<!-- <time datetime=\"2024-09-07\" pubdate=\"\">09/07/24-11:10AM EST </time>-->\n",
       "<p>Zacks Private Portfolio Services</p>\n",
       "</li><li>\n",
       "<h3><a class=\"analytics_tracking\" href=\"/stock/news/2318996/is-trending-stock-riot-platforms-inc-riot-a-buy-now?art_rec=quote-stock_overview-zacks_news-ID03-txt-2318996\" id=\"zacks_news-2318996-txt\">Is Trending Stock Riot Platforms, Inc. (RIOT) a Buy Now?</a></h3>\n",
       "<time datetime=\"2024-08-08\" pubdate=\"\">08/08/24-8:00AM EST  Zacks</time>\n",
       "</li><li>\n",
       "<h3><a class=\"analytics_tracking\" href=\"/stock/news/2317324/should-you-buy-sell-or-hold-cleanspark-clsk-before-q3-earnings?art_rec=quote-stock_overview-zacks_news-ID04-txt-2317324\" id=\"zacks_news-2317324-txt\">Should You Buy, Sell, or Hold CleanSpark (CLSK) Before Q3 Earnings?</a></h3>\n",
       "<time datetime=\"2024-08-06\" pubdate=\"\">08/06/24-1:46PM EST  Zacks</time>\n",
       "</li><li>\n",
       "<h3><a class=\"analytics_tracking\" href=\"/stock/news/2315978/wall-street-bulls-look-optimistic-about-riot-platforms-inc-riot-should-you-buy?art_rec=quote-stock_overview-zacks_news-ID05-txt-2315978\" id=\"zacks_news-2315978-txt\">Wall Street Bulls Look Optimistic About Riot Platforms, Inc. (RIOT): Should You Buy?</a></h3>\n",
       "<time datetime=\"2024-08-05\" pubdate=\"\">08/05/24-8:30AM EST  Zacks</time>\n",
       "</li>\n",
       "<aside><a class=\"more_news_link\" href=\"https://www.zacks.com/stock/research/RIOT/all-news/zacks\">More Zacks News for RIOT<span aria-hidden=\"true\">»</span></a></aside>\n",
       "</ul>"
      ]
     },
     "execution_count": 5,
     "metadata": {},
     "output_type": "execute_result"
    }
   ],
   "source": [
    "soup.find(id=\"news-tab-1\")"
   ]
  },
  {
   "cell_type": "code",
   "execution_count": null,
   "metadata": {},
   "outputs": [],
   "source": []
  }
 ],
 "metadata": {
  "kernelspec": {
   "display_name": "py_kafka",
   "language": "python",
   "name": "python3"
  },
  "language_info": {
   "codemirror_mode": {
    "name": "ipython",
    "version": 3
   },
   "file_extension": ".py",
   "mimetype": "text/x-python",
   "name": "python",
   "nbconvert_exporter": "python",
   "pygments_lexer": "ipython3",
   "version": "3.9.19"
  }
 },
 "nbformat": 4,
 "nbformat_minor": 2
}
